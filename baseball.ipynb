{
  "nbformat": 4,
  "nbformat_minor": 0,
  "metadata": {
    "kernelspec": {
      "display_name": "Python 3",
      "language": "python",
      "name": "python3"
    },
    "language_info": {
      "codemirror_mode": {
        "name": "ipython",
        "version": 3
      },
      "file_extension": ".py",
      "mimetype": "text/x-python",
      "name": "python",
      "nbconvert_exporter": "python",
      "pygments_lexer": "ipython3",
      "version": "3.8.0-final"
    },
    "colab": {
      "name": "baseball.ipynb",
      "provenance": [],
      "collapsed_sections": [],
      "include_colab_link": true
    }
  },
  "cells": [
    {
      "cell_type": "markdown",
      "metadata": {
        "id": "view-in-github",
        "colab_type": "text"
      },
      "source": [
        "<a href=\"https://colab.research.google.com/github/yongduek/gks3008_2021/blob/main/baseball.ipynb\" target=\"_parent\"><img src=\"https://colab.research.google.com/assets/colab-badge.svg\" alt=\"Open In Colab\"/></a>"
      ]
    },
    {
      "cell_type": "code",
      "metadata": {
        "id": "UA3dSOKOoaLZ"
      },
      "source": [
        "%matplotlib inline"
      ],
      "execution_count": 1,
      "outputs": []
    },
    {
      "cell_type": "markdown",
      "metadata": {
        "id": "irI8KjugoaLd"
      },
      "source": [
        "# Example: Baseball Batting Average\n",
        "\n",
        "Original example from Pyro:\n",
        "https://github.com/pyro-ppl/pyro/blob/dev/examples/baseball.py\n",
        "\n",
        "Example has been adapted from [1]. It demonstrates how to do Bayesian inference using\n",
        "various MCMC kernels in Pyro (HMC, NUTS, SA), and use of some common inference utilities.\n",
        "\n",
        "As in the Stan tutorial, this uses the small baseball dataset of Efron and Morris [2]\n",
        "to estimate players' batting average which is the fraction of times a player got a\n",
        "base hit out of the number of times they went up at bat.\n",
        "\n",
        "The dataset separates the initial 45 at-bats statistics from the remaining season.\n",
        "We use the hits data from the initial 45 at-bats to estimate the batting average\n",
        "for each player. We then use the remaining season's data to validate the predictions\n",
        "from our models.\n",
        "\n",
        "Three models are evaluated:\n",
        "\n",
        "    - Complete pooling model: The success probability of scoring a hit is shared\n",
        "      amongst all players.\n",
        "    - No pooling model: Each individual player's success probability is distinct and\n",
        "      there is no data sharing amongst players.\n",
        "    - Partial pooling model: A hierarchical model with partial data sharing.\n",
        "\n",
        "We recommend Radford Neal's tutorial on HMC ([3]) to users who would like to get a\n",
        "more comprehensive understanding of HMC and its variants, and to [4] for details on\n",
        "the No U-Turn Sampler, which provides an efficient and automated way (i.e. limited\n",
        "hyper-parameters) of running HMC on different problems.\n",
        "\n",
        "Note that the Sample Adaptive (SA) kernel, which is implemented based on [5],\n",
        "requires large `num_warmup` and `num_samples` (e.g. 15,000 and 300,000). So\n",
        "it is better to disable progress bar to avoid dispatching overhead.\n",
        "\n",
        "**References:**\n",
        "\n",
        "1. Carpenter B. (2016), [\"Hierarchical Partial Pooling for Repeated Binary Trials\"](https://mc-stan.org/users/documentation/case-studies/pool-binary-trials.html)\n",
        "2. Efron B., Morris C. (1975), \"Data analysis using Stein's estimator and its\n",
        "   generalizations\", J. Amer. Statist. Assoc., 70, 311-319.\n",
        "3. Neal, R. (2012), \"MCMC using Hamiltonian Dynamics\",\n",
        "   (https://arxiv.org/pdf/1206.1901.pdf)\n",
        "4. Hoffman, M. D. and Gelman, A. (2014), \"The No-U-turn sampler: Adaptively setting\n",
        "   path lengths in Hamiltonian Monte Carlo\", (https://arxiv.org/abs/1111.4246)\n",
        "5. Michael Zhu (2019), \"Sample Adaptive MCMC\",\n",
        "   (https://papers.nips.cc/paper/9107-sample-adaptive-mcmc)\n"
      ]
    },
    {
      "cell_type": "code",
      "metadata": {
        "colab": {
          "base_uri": "https://localhost:8080/"
        },
        "id": "AtEkMTevoj4V",
        "outputId": "12f88442-5be5-4d7f-c1fe-5a8d7480ac6d"
      },
      "source": [
        "!pip install numpyro arviz"
      ],
      "execution_count": 15,
      "outputs": [
        {
          "output_type": "stream",
          "text": [
            "Requirement already satisfied: numpyro in /usr/local/lib/python3.7/dist-packages (0.6.0)\n",
            "Collecting arviz\n",
            "\u001b[?25l  Downloading https://files.pythonhosted.org/packages/e2/a8/e2ad120b06822e29e0d185bed1ae300576f3f61f97fceb6933ba6f6accf7/arviz-0.11.2-py3-none-any.whl (1.6MB)\n",
            "\u001b[K     |████████████████████████████████| 1.6MB 5.1MB/s \n",
            "\u001b[?25hRequirement already satisfied: jax==0.2.10 in /usr/local/lib/python3.7/dist-packages (from numpyro) (0.2.10)\n",
            "Requirement already satisfied: jaxlib==0.1.62 in /usr/local/lib/python3.7/dist-packages (from numpyro) (0.1.62+cuda110)\n",
            "Requirement already satisfied: tqdm in /usr/local/lib/python3.7/dist-packages (from numpyro) (4.41.1)\n",
            "Requirement already satisfied: typing-extensions<4,>=3.7.4.3 in /usr/local/lib/python3.7/dist-packages (from arviz) (3.7.4.3)\n",
            "Requirement already satisfied: setuptools>=38.4 in /usr/local/lib/python3.7/dist-packages (from arviz) (54.1.2)\n",
            "Requirement already satisfied: numpy>=1.12 in /usr/local/lib/python3.7/dist-packages (from arviz) (1.19.5)\n",
            "Requirement already satisfied: scipy>=0.19 in /usr/local/lib/python3.7/dist-packages (from arviz) (1.4.1)\n",
            "Requirement already satisfied: matplotlib>=3.0 in /usr/local/lib/python3.7/dist-packages (from arviz) (3.2.2)\n",
            "Requirement already satisfied: pandas>=0.23 in /usr/local/lib/python3.7/dist-packages (from arviz) (1.1.5)\n",
            "Collecting netcdf4\n",
            "\u001b[?25l  Downloading https://files.pythonhosted.org/packages/37/56/f65978898fb8e7e5df9c67531d86eb24eb04938deae3b61dbcce12c98212/netCDF4-1.5.6-cp37-cp37m-manylinux2014_x86_64.whl (4.7MB)\n",
            "\u001b[K     |████████████████████████████████| 4.7MB 10.4MB/s \n",
            "\u001b[?25hRequirement already satisfied: packaging in /usr/local/lib/python3.7/dist-packages (from arviz) (20.9)\n",
            "Collecting xarray>=0.16.1\n",
            "\u001b[?25l  Downloading https://files.pythonhosted.org/packages/a5/19/debc1f470b8b9e2949da221663c8102ed6728f4d38dc964085ca43de1428/xarray-0.17.0-py3-none-any.whl (759kB)\n",
            "\u001b[K     |████████████████████████████████| 768kB 41.0MB/s \n",
            "\u001b[?25hRequirement already satisfied: opt-einsum in /usr/local/lib/python3.7/dist-packages (from jax==0.2.10->numpyro) (3.3.0)\n",
            "Requirement already satisfied: absl-py in /usr/local/lib/python3.7/dist-packages (from jax==0.2.10->numpyro) (0.10.0)\n",
            "Requirement already satisfied: flatbuffers in /usr/local/lib/python3.7/dist-packages (from jaxlib==0.1.62->numpyro) (1.12)\n",
            "Requirement already satisfied: pyparsing!=2.0.4,!=2.1.2,!=2.1.6,>=2.0.1 in /usr/local/lib/python3.7/dist-packages (from matplotlib>=3.0->arviz) (2.4.7)\n",
            "Requirement already satisfied: cycler>=0.10 in /usr/local/lib/python3.7/dist-packages (from matplotlib>=3.0->arviz) (0.10.0)\n",
            "Requirement already satisfied: kiwisolver>=1.0.1 in /usr/local/lib/python3.7/dist-packages (from matplotlib>=3.0->arviz) (1.3.1)\n",
            "Requirement already satisfied: python-dateutil>=2.1 in /usr/local/lib/python3.7/dist-packages (from matplotlib>=3.0->arviz) (2.8.1)\n",
            "Requirement already satisfied: pytz>=2017.2 in /usr/local/lib/python3.7/dist-packages (from pandas>=0.23->arviz) (2018.9)\n",
            "Collecting cftime\n",
            "\u001b[?25l  Downloading https://files.pythonhosted.org/packages/41/e0/3e120cca16571c5ee3b35f1ed432c2aae5dc91e2b789e8b9c3a70e721ea0/cftime-1.4.1-cp37-cp37m-manylinux2014_x86_64.whl (313kB)\n",
            "\u001b[K     |████████████████████████████████| 317kB 26.7MB/s \n",
            "\u001b[?25hRequirement already satisfied: six in /usr/local/lib/python3.7/dist-packages (from absl-py->jax==0.2.10->numpyro) (1.15.0)\n",
            "Installing collected packages: cftime, netcdf4, xarray, arviz\n",
            "  Found existing installation: xarray 0.15.1\n",
            "    Uninstalling xarray-0.15.1:\n",
            "      Successfully uninstalled xarray-0.15.1\n",
            "Successfully installed arviz-0.11.2 cftime-1.4.1 netcdf4-1.5.6 xarray-0.17.0\n"
          ],
          "name": "stdout"
        }
      ]
    },
    {
      "cell_type": "code",
      "metadata": {
        "id": "BlLD0doPoaLe"
      },
      "source": [
        "import argparse\n",
        "import os\n",
        "import arviz \n",
        "import numpy as np\n",
        "\n",
        "import jax\n",
        "import jax.numpy as jnp\n",
        "import jax.random as random\n",
        "from jax.scipy.special import logsumexp\n",
        "\n",
        "import numpyro\n",
        "import numpyro.distributions as dist\n",
        "from numpyro.examples.datasets import BASEBALL, load_dataset\n",
        "from numpyro.infer import HMC, MCMC, NUTS, SA, Predictive, log_likelihood\n",
        "\n",
        "import matplotlib.pyplot as plt\n",
        "plt.style.use('dark_background')"
      ],
      "execution_count": 16,
      "outputs": []
    },
    {
      "cell_type": "code",
      "metadata": {
        "id": "oFq4LjfjoaLf"
      },
      "source": [
        "assert numpyro.__version__.startswith('0.6.0')\n",
        "num_samples = 3000\n",
        "num_warmup  = 1500\n",
        "algo = 'NUTS'  # 'HMC', 'NUTS', 'SA'\n",
        "num_chains = 1\n",
        "numpyro.set_host_device_count(num_chains)"
      ],
      "execution_count": 17,
      "outputs": []
    },
    {
      "cell_type": "markdown",
      "metadata": {
        "id": "FNaIBVlPoaLf"
      },
      "source": [
        "## Data\n",
        "- traint: at_bats, hits\n",
        "- test: at_bats, hits\n",
        "- The dataset separates the initial 45 at-bats statistics from the remaining season. \n",
        "- We use the hits data from the initial 45 at-bats to **estimate the batting average for each player**.\n",
        "- We then use the remaining season's data to validate the predictions from our models."
      ]
    },
    {
      "cell_type": "code",
      "metadata": {
        "colab": {
          "base_uri": "https://localhost:8080/"
        },
        "id": "iZTqfC0GoaLf",
        "outputId": "2686423b-85c4-4a31-c5ba-9a47b074f2c5"
      },
      "source": [
        "    _, fetch_train = load_dataset(BASEBALL, split='train', shuffle=False)\n",
        "    train, player_names = fetch_train()\n",
        "    _, fetch_test = load_dataset(BASEBALL, split='test', shuffle=False)\n",
        "    test, _ = fetch_test()\n",
        "    at_bats, hits = train[:, 0], train[:, 1]\n",
        "    season_at_bats, season_hits = test[:, 0], test[:, 1]\n",
        "    print('data:', len(at_bats))"
      ],
      "execution_count": 18,
      "outputs": [
        {
          "output_type": "stream",
          "text": [
            "data: 18\n"
          ],
          "name": "stdout"
        }
      ]
    },
    {
      "cell_type": "markdown",
      "metadata": {
        "id": "MiCgctwhoaLh"
      },
      "source": [
        "## Utility Functions"
      ]
    },
    {
      "cell_type": "code",
      "metadata": {
        "id": "rf9xtN03oaLh"
      },
      "source": [
        "def run_inference(model, at_bats, hits, rng_key, algo='NUTS'):\n",
        "    if algo == \"NUTS\":\n",
        "        kernel = NUTS(model)\n",
        "    elif algo == \"HMC\":\n",
        "        kernel = HMC(model)\n",
        "    elif algo == \"SA\":\n",
        "        kernel = SA(model)\n",
        "    #\n",
        "    mcmc = MCMC(kernel, num_warmup, num_samples, num_chains=num_chains, progress_bar=True)\n",
        "    mcmc.run(rng_key, at_bats, hits)\n",
        "    mcmc.print_summary()\n",
        "    return mcmc.get_samples()\n",
        "#\n",
        "\n",
        "def predict(model, at_bats, hits, z, rng_key, player_names, train=True):\n",
        "    header = model.__name__ + (' - TRAIN' if train else ' - TEST')\n",
        "    predictions = Predictive(model, posterior_samples=z)(rng_key, at_bats)['obs']\n",
        "    print_results('=' * 30 + header + '=' * 30,\n",
        "                  predictions,\n",
        "                  player_names,\n",
        "                  at_bats,\n",
        "                  hits)\n",
        "    if not train:\n",
        "        post_loglik = log_likelihood(model, z, at_bats, hits)['obs']\n",
        "        # computes expected log predictive density at each data point\n",
        "        exp_log_density = logsumexp(post_loglik, axis=0) - jnp.log(jnp.shape(post_loglik)[0])\n",
        "        # reports log predictive density of all test points\n",
        "        print('\\nLog pointwise predictive density: {:.2f}\\n'.format(exp_log_density.sum()))\n",
        "#\n",
        "\n",
        "def print_results(header, preds, player_names, at_bats, hits):\n",
        "    columns = ['', 'At-bats', 'ActualHits', 'Pred(p25)', 'Pred(p50)', 'Pred(p75)']\n",
        "    header_format = '{:>20} {:>10} {:>10} {:>10} {:>10} {:>10}'\n",
        "    row_format = '{:>20} {:>10.0f} {:>10.0f} {:>10.2f} {:>10.2f} {:>10.2f}'\n",
        "    quantiles = jnp.quantile(preds, jnp.array([0.25, 0.5, 0.75]), axis=0)\n",
        "    print('\\n', header, '\\n')\n",
        "    print(header_format.format(*columns))\n",
        "    for i, p in enumerate(player_names):\n",
        "        print(row_format.format(p, at_bats[i], hits[i], *quantiles[:, i]))\n",
        "#"
      ],
      "execution_count": 19,
      "outputs": []
    },
    {
      "cell_type": "markdown",
      "metadata": {
        "id": "nA5VCL4DoaLi"
      },
      "source": [
        "## Model: Not_Pooled\n",
        "- Independent probability of success for each player\n",
        "- Number of hits in $K$ at bats for each player has a Binomial\n",
        "    distribution with independent probability of success, $\\phi_i$.\n"
      ]
    },
    {
      "cell_type": "code",
      "metadata": {
        "id": "6C_emWEpoaLi"
      },
      "source": [
        "def not_pooled(at_bats, hits=None):\n",
        "    r\"\"\"\n",
        "    Number of hits in $K$ at bats for each player has a Binomial\n",
        "    distribution with independent probability of success, $\\phi_i$.\n",
        "\n",
        "    :param (jnp.DeviceArray) at_bats: Number of at bats for each player.\n",
        "    :param (jnp.DeviceArray) hits: Number of hits for the given at bats.\n",
        "    :return: Number of hits predicted by the model.\n",
        "    \"\"\"\n",
        "    num_players = at_bats.shape[0]\n",
        "    with numpyro.plate(\"num_players\", num_players):\n",
        "        phi_prior = dist.Uniform(0, 1)\n",
        "        phi = numpyro.sample(\"phi\", phi_prior)\n",
        "        return numpyro.sample(\"obs\", dist.Binomial(at_bats, probs=phi), obs=hits)\n",
        "#"
      ],
      "execution_count": 20,
      "outputs": []
    },
    {
      "cell_type": "markdown",
      "metadata": {
        "id": "-MrA2QVxoaLj"
      },
      "source": [
        "### Inference"
      ]
    },
    {
      "cell_type": "code",
      "metadata": {
        "colab": {
          "base_uri": "https://localhost:8080/"
        },
        "id": "Yo1tas5moaLj",
        "outputId": "4fd72389-8492-45f2-dc73-08138b0633c8"
      },
      "source": [
        "zs = run_inference(not_pooled, at_bats, hits, rng_key=random.PRNGKey(0), algo='NUTS')"
      ],
      "execution_count": 21,
      "outputs": [
        {
          "output_type": "stream",
          "text": [
            "sample: 100%|██████████| 4500/4500 [00:10<00:00, 445.97it/s, 7 steps of size 6.71e-01. acc. prob=0.85]\n"
          ],
          "name": "stderr"
        },
        {
          "output_type": "stream",
          "text": [
            "\n",
            "                mean       std    median      5.0%     95.0%     n_eff     r_hat\n",
            "    phi[0]      0.40      0.07      0.40      0.29      0.53   7943.76      1.00\n",
            "    phi[1]      0.38      0.07      0.38      0.27      0.50   7400.61      1.00\n",
            "    phi[2]      0.36      0.07      0.36      0.25      0.47   7365.36      1.00\n",
            "    phi[3]      0.34      0.07      0.34      0.22      0.46   7534.42      1.00\n",
            "    phi[4]      0.32      0.07      0.32      0.21      0.43   8183.98      1.00\n",
            "    phi[5]      0.32      0.07      0.32      0.21      0.42   7674.42      1.00\n",
            "    phi[6]      0.30      0.07      0.30      0.19      0.40   7255.39      1.00\n",
            "    phi[7]      0.28      0.06      0.27      0.17      0.38   6562.46      1.00\n",
            "    phi[8]      0.25      0.06      0.25      0.15      0.35   6384.14      1.00\n",
            "    phi[9]      0.25      0.06      0.25      0.15      0.36   7794.58      1.00\n",
            "   phi[10]      0.23      0.06      0.23      0.14      0.33   7606.22      1.00\n",
            "   phi[11]      0.23      0.06      0.23      0.14      0.33   7017.69      1.00\n",
            "   phi[12]      0.23      0.06      0.23      0.13      0.33   7442.04      1.00\n",
            "   phi[13]      0.23      0.06      0.23      0.13      0.33   7216.31      1.00\n",
            "   phi[14]      0.23      0.06      0.23      0.14      0.34   7027.09      1.00\n",
            "   phi[15]      0.21      0.06      0.21      0.12      0.31   7651.43      1.00\n",
            "   phi[16]      0.19      0.06      0.19      0.10      0.28   6143.83      1.00\n",
            "   phi[17]      0.17      0.06      0.17      0.08      0.26   8695.56      1.00\n",
            "\n",
            "Number of divergences: 0\n"
          ],
          "name": "stdout"
        }
      ]
    },
    {
      "cell_type": "code",
      "metadata": {
        "colab": {
          "base_uri": "https://localhost:8080/"
        },
        "id": "KJycUlqRoaLj",
        "outputId": "611c4123-d489-45ee-d340-3a3d9185330e"
      },
      "source": [
        "predict(not_pooled, at_bats, hits, zs, random.PRNGKey(0), player_names)"
      ],
      "execution_count": 22,
      "outputs": [
        {
          "output_type": "stream",
          "text": [
            "\n",
            " ==============================not_pooled - TRAIN============================== \n",
            "\n",
            "                        At-bats ActualHits  Pred(p25)  Pred(p50)  Pred(p75)\n",
            "    Roberto Clemente         45         18      15.00      18.00      21.00\n",
            "      Frank Robinson         45         17      14.00      17.00      20.00\n",
            "        Frank Howard         45         16      13.00      16.00      19.00\n",
            "       Jay Johnstone         45         15      12.00      15.00      18.00\n",
            "           Ken Berry         45         14      11.00      14.00      17.00\n",
            "         Jim Spencer         45         14      12.00      14.00      17.00\n",
            "       Don Kessinger         45         13      10.00      13.00      16.00\n",
            "       Luis Alvarado         45         12      10.00      12.00      15.00\n",
            "           Ron Santo         45         11       9.00      11.00      14.00\n",
            "         Ron Swaboda         45         11       9.00      11.00      14.00\n",
            "     Rico Petrocelli         45         10       8.00      10.00      13.00\n",
            "     Ellie Rodriguez         45         10       8.00      10.00      13.00\n",
            "        George Scott         45         10       8.00      10.00      13.00\n",
            "           Del Unser         45         10       8.00      10.00      13.00\n",
            "      Billy Williams         45         10       8.00      10.00      13.00\n",
            "     Bert Campaneris         45          9       7.00       9.00      12.00\n",
            "      Thurman Munson         45          8       6.00       8.00      11.00\n",
            "           Max Alvis         45          7       5.00       7.00      10.00\n"
          ],
          "name": "stdout"
        }
      ]
    },
    {
      "cell_type": "markdown",
      "metadata": {
        "id": "am4UIvQNoaLj"
      },
      "source": [
        "### Let's produce those prediction results."
      ]
    },
    {
      "cell_type": "code",
      "metadata": {
        "colab": {
          "base_uri": "https://localhost:8080/"
        },
        "id": "ZEaUQ7NaoaLk",
        "outputId": "21aa5224-e5ad-4dbf-c78f-e62b289d7a91"
      },
      "source": [
        "zs['phi'].shape  # the mcmc gives posterior samples phi_i for each i-th player. \n",
        "i = 0\n",
        "phi = zs['phi'][:,i]\n",
        "print(f'{player_names[i]}, {phi[:5]}')"
      ],
      "execution_count": 23,
      "outputs": [
        {
          "output_type": "stream",
          "text": [
            "Roberto Clemente, [0.36169615 0.5661766  0.28016263 0.42534524 0.3143292 ]\n"
          ],
          "name": "stdout"
        }
      ]
    },
    {
      "cell_type": "code",
      "metadata": {
        "colab": {
          "base_uri": "https://localhost:8080/",
          "height": 264
        },
        "id": "Yw_7iNoCoaLk",
        "outputId": "72fdcc8d-f594-48e1-e353-8925ca527e17"
      },
      "source": [
        "with numpyro.handlers.seed(rng_seed=0):\n",
        "    pred_hits = numpyro.sample('hits', dist.Binomial(at_bats[i], probs=phi))\n",
        "#\n",
        "print('mean, std:', pred_hits.mean(), pred_hits.std())\n",
        "#\n",
        "pred_hits = np.sort(pred_hits);\n",
        "n = len(pred_hits)\n",
        "print('quantiles: ', pred_hits[int(n*25/100)], pred_hits[int(n*50/100)], pred_hits[int(n*75/100)])\n",
        "#\n",
        "pred_hit_rates = pred_hits / at_bats[i]\n",
        "n = len(pred_hits)\n",
        "print('quantiles: ', pred_hit_rates[int(n*25/100)], pred_hit_rates[int(n*50/100)], pred_hit_rates[int(n*75/100)])\n",
        "#\n",
        "fig, axes = plt.subplots(1,2, figsize=(10,3))\n",
        "axes[0].hist(pred_hit_rates)\n",
        "axes[1].hist(pred_hits, bins=10);"
      ],
      "execution_count": 24,
      "outputs": [
        {
          "output_type": "stream",
          "text": [
            "mean, std: 18.170666 4.605816\n",
            "quantiles:  15 18 21\n",
            "quantiles:  0.3333333333333333 0.4 0.4666666666666667\n"
          ],
          "name": "stdout"
        },
        {
          "output_type": "display_data",
          "data": {
            "image/png": "[encoded data removed]",
            "text/plain": [
              "<Figure size 720x216 with 2 Axes>"
            ]
          },
          "metadata": {
            "tags": []
          }
        }
      ]
    },
    {
      "cell_type": "code",
      "metadata": {
        "colab": {
          "base_uri": "https://localhost:8080/",
          "height": 304
        },
        "id": "F9A_XAeyoaLk",
        "outputId": "71ff832c-1f13-4125-8fcc-02a47126a0d8"
      },
      "source": [
        "arviz.plot_posterior({'hits': np.array(pred_hits), 'hit_rate': np.array(pred_hit_rates)});"
      ],
      "execution_count": 25,
      "outputs": [
        {
          "output_type": "display_data",
          "data": {
            "image/png": "[encoded data removed]",
            "text/plain": [
              "<Figure size 993.6x331.2 with 2 Axes>"
            ]
          },
          "metadata": {
            "tags": []
          }
        }
      ]
    },
    {
      "cell_type": "code",
      "metadata": {
        "colab": {
          "base_uri": "https://localhost:8080/"
        },
        "id": "J97xsu_WoaLl",
        "outputId": "b60b8b70-b9ef-467a-ea34-0045520fa5dd"
      },
      "source": [
        "predict(not_pooled, season_at_bats, season_hits, zs, random.PRNGKey(0), player_names, train=False)"
      ],
      "execution_count": 26,
      "outputs": [
        {
          "output_type": "stream",
          "text": [
            "\n",
            " ==============================not_pooled - TEST============================== \n",
            "\n",
            "                        At-bats ActualHits  Pred(p25)  Pred(p50)  Pred(p75)\n",
            "    Roberto Clemente        412        145     145.00     165.00     188.00\n",
            "      Frank Robinson        471        144     156.00     179.00     203.00\n",
            "        Frank Howard        566        160     176.00     204.00     231.00\n",
            "       Jay Johnstone        320         76      91.00     108.00     125.00\n",
            "           Ken Berry        463        128     125.00     146.00     169.00\n",
            "         Jim Spencer        511        140     140.00     162.00     186.00\n",
            "       Don Kessinger        631        168     157.00     186.00     217.00\n",
            "       Luis Alvarado        183         41      41.00      50.00      59.00\n",
            "           Ron Santo        555        148     115.75     139.00     164.00\n",
            "         Ron Swaboda        245         57      50.00      61.00      73.00\n",
            "     Rico Petrocelli        583        152     109.00     133.00     159.00\n",
            "     Ellie Rodriguez        231         52      43.00      53.00      64.00\n",
            "        George Scott        480        142      90.00     111.00     133.00\n",
            "           Del Unser        322         83      60.00      74.00      89.00\n",
            "      Billy Williams        636        205     119.00     145.00     176.00\n",
            "     Bert Campaneris        603        168     101.00     125.00     151.00\n",
            "      Thurman Munson        453        137      68.00      85.00     104.00\n",
            "           Max Alvis        115         21      14.00      19.00      24.00\n",
            "\n",
            "Log pointwise predictive density: -82.77\n",
            "\n"
          ],
          "name": "stdout"
        }
      ]
    },
    {
      "cell_type": "markdown",
      "metadata": {
        "id": "GBkPche8oaLl"
      },
      "source": [
        "## Modl: Fully Pooled\n",
        "Number of hits in $K$ at bats for each player has a Binomial\n",
        "    distribution with a common probability of success, $\\phi$.\n"
      ]
    },
    {
      "cell_type": "code",
      "metadata": {
        "id": "s29ISuVhoaLl"
      },
      "source": [
        "def fully_pooled(at_bats, hits=None):\n",
        "    r\"\"\"\n",
        "    Number of hits in $K$ at bats for each player has a Binomial\n",
        "    distribution with a common probability of success, $\\phi$.\n",
        "\n",
        "    :param (jnp.DeviceArray) at_bats: Number of at bats for each player.\n",
        "    :param (jnp.DeviceArray) hits: Number of hits for the given at bats.\n",
        "    :return: Number of hits predicted by the model.\n",
        "    \"\"\"\n",
        "    phi_prior = dist.Uniform(0, 1)\n",
        "    phi = numpyro.sample(\"phi\", phi_prior)\n",
        "    num_players = at_bats.shape[0]\n",
        "    with numpyro.plate(\"num_players\", num_players):\n",
        "        return numpyro.sample(\"obs\", dist.Binomial(at_bats, probs=phi), obs=hits)\n"
      ],
      "execution_count": 27,
      "outputs": []
    },
    {
      "cell_type": "code",
      "metadata": {
        "colab": {
          "base_uri": "https://localhost:8080/"
        },
        "id": "VXk0zsgToaLl",
        "outputId": "13012013-6c3a-4ff8-c550-aafc7f0ce0e9"
      },
      "source": [
        "rng_key, rng_key_predict = random.split(random.PRNGKey(i + 1))\n",
        "zs = run_inference(fully_pooled, at_bats, hits, rng_key)\n",
        "predict(fully_pooled, at_bats, hits, zs, rng_key_predict, player_names)"
      ],
      "execution_count": 28,
      "outputs": [
        {
          "output_type": "stream",
          "text": [
            "sample: 100%|██████████| 4500/4500 [00:10<00:00, 433.00it/s, 3 steps of size 1.02e+00. acc. prob=0.93]\n"
          ],
          "name": "stderr"
        },
        {
          "output_type": "stream",
          "text": [
            "\n",
            "                mean       std    median      5.0%     95.0%     n_eff     r_hat\n",
            "       phi      0.27      0.02      0.27      0.24      0.29   1033.68      1.00\n",
            "\n",
            "Number of divergences: 0\n",
            "\n",
            " ==============================fully_pooled - TRAIN============================== \n",
            "\n",
            "                        At-bats ActualHits  Pred(p25)  Pred(p50)  Pred(p75)\n",
            "    Roberto Clemente         45         18      10.00      12.00      14.00\n",
            "      Frank Robinson         45         17      10.00      12.00      14.00\n",
            "        Frank Howard         45         16      10.00      12.00      14.00\n",
            "       Jay Johnstone         45         15      10.00      12.00      14.00\n",
            "           Ken Berry         45         14      10.00      12.00      14.00\n",
            "         Jim Spencer         45         14      10.00      12.00      14.00\n",
            "       Don Kessinger         45         13      10.00      12.00      14.00\n",
            "       Luis Alvarado         45         12      10.00      12.00      14.00\n",
            "           Ron Santo         45         11      10.00      12.00      14.00\n",
            "         Ron Swaboda         45         11      10.00      12.00      14.00\n",
            "     Rico Petrocelli         45         10      10.00      12.00      14.00\n",
            "     Ellie Rodriguez         45         10      10.00      12.00      14.00\n",
            "        George Scott         45         10      10.00      12.00      14.00\n",
            "           Del Unser         45         10      10.00      12.00      14.00\n",
            "      Billy Williams         45         10      10.00      12.00      14.00\n",
            "     Bert Campaneris         45          9      10.00      12.00      14.00\n",
            "      Thurman Munson         45          8      10.00      12.00      14.00\n",
            "           Max Alvis         45          7      10.00      12.00      14.00\n"
          ],
          "name": "stdout"
        }
      ]
    },
    {
      "cell_type": "code",
      "metadata": {
        "colab": {
          "base_uri": "https://localhost:8080/"
        },
        "id": "StS8YHV1oaLl",
        "outputId": "dc87094d-63ac-4993-b5ee-d1eecbdf8ec0"
      },
      "source": [
        "predict(fully_pooled, season_at_bats, season_hits, zs\n",
        ", rng_key_predict, player_names, train=False)"
      ],
      "execution_count": 29,
      "outputs": [
        {
          "output_type": "stream",
          "text": [
            "\n",
            " ==============================fully_pooled - TEST============================== \n",
            "\n",
            "                        At-bats ActualHits  Pred(p25)  Pred(p50)  Pred(p75)\n",
            "    Roberto Clemente        412        145     103.00     110.00     117.00\n",
            "      Frank Robinson        471        144     117.00     126.00     134.00\n",
            "        Frank Howard        566        160     141.00     150.00     160.00\n",
            "       Jay Johnstone        320         76      79.00      86.00      91.00\n",
            "           Ken Berry        463        128     115.00     123.00     132.00\n",
            "         Jim Spencer        511        140     127.00     136.00     145.00\n",
            "       Don Kessinger        631        168     158.00     168.00     178.00\n",
            "       Luis Alvarado        183         41      44.00      49.00      53.00\n",
            "           Ron Santo        555        148     139.00     148.00     157.00\n",
            "         Ron Swaboda        245         57      60.00      65.00      70.00\n",
            "     Rico Petrocelli        583        152     145.00     155.00     165.00\n",
            "     Ellie Rodriguez        231         52      57.00      62.00      67.00\n",
            "        George Scott        480        142     119.00     128.00     136.00\n",
            "           Del Unser        322         83      79.00      86.00      92.00\n",
            "      Billy Williams        636        205     159.00     169.00     180.00\n",
            "     Bert Campaneris        603        168     151.00     161.00     170.00\n",
            "      Thurman Munson        453        137     112.00     120.00     128.00\n",
            "           Max Alvis        115         21      27.00      31.00      34.00\n",
            "\n",
            "Log pointwise predictive density: -74.66\n",
            "\n"
          ],
          "name": "stdout"
        }
      ]
    },
    {
      "cell_type": "markdown",
      "metadata": {
        "id": "qXdduBt6oaLl"
      },
      "source": [
        "## Model: Partially Pooled (Hierarchical or Multi-Level)\n",
        "Number of hits has a Binomial distribution with independent\n",
        "    probability of success, $\\phi_i$. Each $\\phi_i$ follows a Beta\n",
        "    distribution with concentration parameters $c_1$ and $c_2$, where\n",
        "\\begin{align}\n",
        "    c_1 &= m * \\kappa \\\\\n",
        "    c_2 &= (1 - m) * \\kappa \\\\\n",
        "    m &\\sim Uniform(0, 1) \\quad\\mbox{mean of beta}\\\\\n",
        "    \\kappa &\\sim Pareto(1, 1.5)  \\quad\\mbox{concentration of beta}\n",
        "\\end{align}"
      ]
    },
    {
      "cell_type": "code",
      "metadata": {
        "id": "LH3SnKmioaLm"
      },
      "source": [
        "def partially_pooled(at_bats, hits=None):\n",
        "    r\"\"\"\n",
        "    :param (jnp.DeviceArray) at_bats: Number of at bats for each player.\n",
        "    :param (jnp.DeviceArray) hits: Number of hits for the given at bats.\n",
        "    :return: Number of hits predicted by the model.\n",
        "    \"\"\"\n",
        "    m = numpyro.sample(\"m\", dist.Uniform(0, 1))\n",
        "    kappa = numpyro.sample(\"kappa\", dist.Pareto(1, 1.5))\n",
        "    num_players = at_bats.shape[0]\n",
        "    with numpyro.plate(\"num_players\", num_players):\n",
        "        phi_prior = dist.Beta(m * kappa, (1 - m) * kappa)\n",
        "        phi = numpyro.sample(\"phi\", phi_prior)\n",
        "        return numpyro.sample(\"obs\", dist.Binomial(at_bats, probs=phi), obs=hits)"
      ],
      "execution_count": 30,
      "outputs": []
    },
    {
      "cell_type": "code",
      "metadata": {
        "colab": {
          "base_uri": "https://localhost:8080/"
        },
        "id": "OLxOfxYwoaLm",
        "outputId": "0c625d90-f274-4f02-d011-5fcb7cbba9ab"
      },
      "source": [
        "rng_key, rng_key_predict = random.split(random.PRNGKey(i + 1))\n",
        "zs = run_inference(partially_pooled, at_bats, hits, rng_key)"
      ],
      "execution_count": 32,
      "outputs": [
        {
          "output_type": "stream",
          "text": [
            "sample: 100%|██████████| 4500/4500 [00:13<00:00, 342.05it/s, 15 steps of size 3.23e-01. acc. prob=0.87]\n"
          ],
          "name": "stderr"
        },
        {
          "output_type": "stream",
          "text": [
            "\n",
            "                mean       std    median      5.0%     95.0%     n_eff     r_hat\n",
            "     kappa    118.66    158.28     66.58      6.96    250.14    172.48      1.00\n",
            "         m      0.27      0.02      0.27      0.24      0.30   2062.98      1.00\n",
            "    phi[0]      0.32      0.05      0.31      0.24      0.41   1403.08      1.00\n",
            "    phi[1]      0.31      0.05      0.31      0.23      0.39   1647.85      1.00\n",
            "    phi[2]      0.30      0.05      0.30      0.22      0.38   2225.13      1.00\n",
            "    phi[3]      0.29      0.05      0.29      0.22      0.37   3003.99      1.00\n",
            "    phi[4]      0.29      0.05      0.28      0.22      0.36   3321.05      1.00\n",
            "    phi[5]      0.29      0.04      0.28      0.21      0.36   3023.91      1.00\n",
            "    phi[6]      0.28      0.04      0.27      0.20      0.35   3121.51      1.00\n",
            "    phi[7]      0.27      0.04      0.27      0.19      0.33   4496.26      1.00\n",
            "    phi[8]      0.26      0.04      0.26      0.19      0.33   2667.76      1.00\n",
            "    phi[9]      0.26      0.04      0.26      0.19      0.33   3021.40      1.00\n",
            "   phi[10]      0.25      0.04      0.25      0.18      0.32   2445.37      1.00\n",
            "   phi[11]      0.25      0.04      0.25      0.18      0.32   2732.75      1.00\n",
            "   phi[12]      0.25      0.04      0.25      0.18      0.32   2811.61      1.00\n",
            "   phi[13]      0.25      0.04      0.25      0.19      0.32   2531.49      1.00\n",
            "   phi[14]      0.25      0.04      0.25      0.18      0.32   2111.71      1.00\n",
            "   phi[15]      0.24      0.04      0.24      0.17      0.31   1942.27      1.00\n",
            "   phi[16]      0.23      0.04      0.23      0.16      0.30   1369.55      1.00\n",
            "   phi[17]      0.22      0.05      0.22      0.15      0.30    883.81      1.00\n",
            "\n",
            "Number of divergences: 1\n"
          ],
          "name": "stdout"
        }
      ]
    },
    {
      "cell_type": "code",
      "metadata": {
        "colab": {
          "base_uri": "https://localhost:8080/"
        },
        "id": "cKT4bcv-oaLm",
        "outputId": "ce812d94-99dd-424d-b651-0ecd795c1407"
      },
      "source": [
        "predict(partially_pooled, at_bats, hits, zs, rng_key_predict, player_names)"
      ],
      "execution_count": 33,
      "outputs": [
        {
          "output_type": "stream",
          "text": [
            "\n",
            " ==============================partially_pooled - TRAIN============================== \n",
            "\n",
            "                        At-bats ActualHits  Pred(p25)  Pred(p50)  Pred(p75)\n",
            "    Roberto Clemente         45         18      12.00      14.00      17.00\n",
            "      Frank Robinson         45         17      11.00      14.00      17.00\n",
            "        Frank Howard         45         16      11.00      13.00      16.00\n",
            "       Jay Johnstone         45         15      11.00      13.00      16.00\n",
            "           Ken Berry         45         14      10.00      13.00      15.00\n",
            "         Jim Spencer         45         14      10.00      13.00      15.00\n",
            "       Don Kessinger         45         13      10.00      12.00      15.00\n",
            "       Luis Alvarado         45         12      10.00      12.00      14.00\n",
            "           Ron Santo         45         11       9.00      11.00      14.00\n",
            "         Ron Swaboda         45         11       9.00      11.00      14.00\n",
            "     Rico Petrocelli         45         10       9.00      11.00      14.00\n",
            "     Ellie Rodriguez         45         10       9.00      11.00      14.00\n",
            "        George Scott         45         10       9.00      11.00      14.00\n",
            "           Del Unser         45         10       9.00      11.00      13.00\n",
            "      Billy Williams         45         10       9.00      11.00      13.00\n",
            "     Bert Campaneris         45          9       8.00      11.00      13.00\n",
            "      Thurman Munson         45          8       8.00      10.00      13.00\n",
            "           Max Alvis         45          7       8.00      10.00      12.00\n"
          ],
          "name": "stdout"
        }
      ]
    },
    {
      "cell_type": "code",
      "metadata": {
        "colab": {
          "base_uri": "https://localhost:8080/"
        },
        "id": "nEhoF-nFoaLn",
        "outputId": "66bdc124-e8d1-435a-b08a-ebe250a1b961"
      },
      "source": [
        "predict(partially_pooled, season_at_bats, season_hits, zs, rng_key_predict, player_names, train=False)"
      ],
      "execution_count": 34,
      "outputs": [
        {
          "output_type": "stream",
          "text": [
            "\n",
            " ==============================partially_pooled - TEST============================== \n",
            "\n",
            "                        At-bats ActualHits  Pred(p25)  Pred(p50)  Pred(p75)\n",
            "    Roberto Clemente        412        145     115.00     130.00     147.00\n",
            "      Frank Robinson        471        144     130.00     145.00     163.00\n",
            "        Frank Howard        566        160     151.00     169.00     189.00\n",
            "       Jay Johnstone        320         76      83.00      93.00     105.00\n",
            "           Ken Berry        463        128     117.00     132.00     147.00\n",
            "         Jim Spencer        511        140     130.00     145.00     162.00\n",
            "       Don Kessinger        631        168     154.00     172.00     192.00\n",
            "       Luis Alvarado        183         41      42.00      49.00      55.00\n",
            "           Ron Santo        555        148     127.00     143.00     160.00\n",
            "         Ron Swaboda        245         57      55.00      63.00      72.00\n",
            "     Rico Petrocelli        583        152     127.00     146.00     163.00\n",
            "     Ellie Rodriguez        231         52      50.00      58.00      67.00\n",
            "        George Scott        480        142     105.00     120.00     136.00\n",
            "           Del Unser        322         83      70.00      80.00      91.00\n",
            "      Billy Williams        636        205     140.00     159.00     177.00\n",
            "     Bert Campaneris        603        168     127.00     145.00     164.00\n",
            "      Thurman Munson        453        137      90.00     105.00     120.00\n",
            "           Max Alvis        115         21      21.00      26.00      30.00\n",
            "\n",
            "Log pointwise predictive density: -74.65\n",
            "\n"
          ],
          "name": "stdout"
        }
      ]
    },
    {
      "cell_type": "markdown",
      "metadata": {
        "id": "wOLeyRtOoaLn"
      },
      "source": [
        "## Model: Partially Pooled with Logit\n",
        "Number of hits has a Binomial distribution with a logit link function.\n",
        "    The logits $\\alpha$ for each player is normally distributed with the\n",
        "    mean and scale parameters sharing a common prior.\n",
        "\n"
      ]
    },
    {
      "cell_type": "code",
      "metadata": {
        "id": "1Vcj8YRwoaLn"
      },
      "source": [
        "def partially_pooled_with_logit(at_bats, hits=None):\n",
        "    r\"\"\"\n",
        "    :param (jnp.DeviceArray) at_bats: Number of at bats for each player.\n",
        "    :param (jnp.DeviceArray) hits: Number of hits for the given at bats.\n",
        "    :return: Number of hits predicted by the model.\n",
        "    \"\"\"\n",
        "    loc = numpyro.sample(\"loc\", dist.Normal(-3, 3))\n",
        "    scale = numpyro.sample(\"scale\", dist.HalfCauchy(1))\n",
        "    num_players = at_bats.shape[0]\n",
        "    with numpyro.plate(\"num_players\", num_players):\n",
        "        alpha = numpyro.sample(\"alpha\", dist.Normal(loc, scale))\n",
        "        return numpyro.sample(\"obs\", dist.Binomial(at_bats, logits=alpha), obs=hits)\n",
        "#\n",
        "model = partially_pooled_with_logit"
      ],
      "execution_count": 35,
      "outputs": []
    },
    {
      "cell_type": "code",
      "metadata": {
        "colab": {
          "base_uri": "https://localhost:8080/"
        },
        "id": "9YxVmWnjoaLn",
        "outputId": "d08d3867-970c-48ec-b555-4f5073cb1334"
      },
      "source": [
        "rng_key, rng_key_predict = random.split(random.PRNGKey(i + 1))\n",
        "zs = run_inference(model, at_bats, hits, rng_key)"
      ],
      "execution_count": 36,
      "outputs": [
        {
          "output_type": "stream",
          "text": [
            "sample: 100%|██████████| 4500/4500 [00:12<00:00, 361.65it/s, 15 steps of size 1.97e-01. acc. prob=0.85]\n"
          ],
          "name": "stderr"
        },
        {
          "output_type": "stream",
          "text": [
            "\n",
            "                mean       std    median      5.0%     95.0%     n_eff     r_hat\n",
            "  alpha[0]     -0.87      0.20     -0.91     -1.17     -0.53    412.62      1.00\n",
            "  alpha[1]     -0.90      0.19     -0.93     -1.20     -0.57    579.58      1.00\n",
            "  alpha[2]     -0.93      0.19     -0.95     -1.22     -0.63    756.50      1.00\n",
            "  alpha[3]     -0.95      0.18     -0.97     -1.22     -0.65   1143.07      1.00\n",
            "  alpha[4]     -0.97      0.18     -0.99     -1.24     -0.65   1294.13      1.00\n",
            "  alpha[5]     -0.97      0.17     -0.98     -1.24     -0.68   1317.76      1.00\n",
            "  alpha[6]     -1.00      0.17     -1.00     -1.29     -0.74   1812.18      1.00\n",
            "  alpha[7]     -1.02      0.17     -1.02     -1.30     -0.73   1852.92      1.00\n",
            "  alpha[8]     -1.05      0.17     -1.04     -1.35     -0.76   1862.49      1.00\n",
            "  alpha[9]     -1.05      0.18     -1.04     -1.36     -0.78   1842.91      1.00\n",
            " alpha[10]     -1.08      0.17     -1.06     -1.37     -0.81   1098.40      1.00\n",
            " alpha[11]     -1.07      0.18     -1.06     -1.35     -0.78   1142.28      1.00\n",
            " alpha[12]     -1.08      0.19     -1.06     -1.39     -0.79   1032.75      1.00\n",
            " alpha[13]     -1.08      0.18     -1.06     -1.36     -0.79   1098.67      1.00\n",
            " alpha[14]     -1.08      0.18     -1.06     -1.41     -0.81   1240.15      1.00\n",
            " alpha[15]     -1.10      0.19     -1.07     -1.43     -0.83    899.56      1.00\n",
            " alpha[16]     -1.13      0.19     -1.11     -1.42     -0.83    739.41      1.00\n",
            " alpha[17]     -1.15      0.21     -1.12     -1.48     -0.83    592.60      1.00\n",
            "       loc     -1.03      0.09     -1.03     -1.18     -0.89    692.35      1.00\n",
            "     scale      0.18      0.11      0.16      0.03      0.32    160.94      1.00\n",
            "\n",
            "Number of divergences: 7\n"
          ],
          "name": "stdout"
        }
      ]
    },
    {
      "cell_type": "code",
      "metadata": {
        "colab": {
          "base_uri": "https://localhost:8080/"
        },
        "id": "GsupTdsaoaLn",
        "outputId": "66b46e84-8f9a-4d3e-b7ce-12e5f06cde91"
      },
      "source": [
        "predict(model, at_bats, hits, zs, rng_key_predict, player_names)"
      ],
      "execution_count": 37,
      "outputs": [
        {
          "output_type": "stream",
          "text": [
            "\n",
            " ==============================partially_pooled_with_logit - TRAIN============================== \n",
            "\n",
            "                        At-bats ActualHits  Pred(p25)  Pred(p50)  Pred(p75)\n",
            "    Roberto Clemente         45         18      11.00      13.00      16.00\n",
            "      Frank Robinson         45         17      11.00      13.00      15.00\n",
            "        Frank Howard         45         16      10.00      13.00      15.00\n",
            "       Jay Johnstone         45         15      10.00      13.00      15.00\n",
            "           Ken Berry         45         14      10.00      12.00      15.00\n",
            "         Jim Spencer         45         14      10.00      12.00      15.00\n",
            "       Don Kessinger         45         13      10.00      12.00      14.00\n",
            "       Luis Alvarado         45         12      10.00      12.00      14.00\n",
            "           Ron Santo         45         11       9.00      12.00      14.00\n",
            "         Ron Swaboda         45         11       9.00      12.00      14.00\n",
            "     Rico Petrocelli         45         10       9.00      11.00      14.00\n",
            "     Ellie Rodriguez         45         10       9.00      11.00      14.00\n",
            "        George Scott         45         10       9.00      11.00      14.00\n",
            "           Del Unser         45         10       9.00      11.00      14.00\n",
            "      Billy Williams         45         10       9.00      11.00      14.00\n",
            "     Bert Campaneris         45          9       9.00      11.00      13.00\n",
            "      Thurman Munson         45          8       9.00      11.00      13.00\n",
            "           Max Alvis         45          7       9.00      11.00      13.00\n"
          ],
          "name": "stdout"
        }
      ]
    },
    {
      "cell_type": "code",
      "metadata": {
        "colab": {
          "base_uri": "https://localhost:8080/"
        },
        "id": "2foyufX4oaLn",
        "outputId": "8850f207-364c-483b-e5ef-8f1ba364cbba"
      },
      "source": [
        "predict(model, season_at_bats, season_hits, zs, rng_key_predict, player_names, train=False)"
      ],
      "execution_count": 38,
      "outputs": [
        {
          "output_type": "stream",
          "text": [
            "\n",
            " ==============================partially_pooled_with_logit - TEST============================== \n",
            "\n",
            "                        At-bats ActualHits  Pred(p25)  Pred(p50)  Pred(p75)\n",
            "    Roberto Clemente        412        145     109.00     120.00     134.00\n",
            "      Frank Robinson        471        144     122.00     135.00     149.00\n",
            "        Frank Howard        566        160     145.00     159.00     175.00\n",
            "       Jay Johnstone        320         76      81.00      89.00      98.00\n",
            "           Ken Berry        463        128     115.00     127.00     139.00\n",
            "         Jim Spencer        511        140     127.00     139.00     153.00\n",
            "       Don Kessinger        631        168     156.00     169.00     185.00\n",
            "       Luis Alvarado        183         41      43.00      48.00      54.00\n",
            "           Ron Santo        555        148     132.00     145.00     158.00\n",
            "         Ron Swaboda        245         57      57.00      63.00      71.00\n",
            "     Rico Petrocelli        583        152     136.00     149.00     163.00\n",
            "     Ellie Rodriguez        231         52      53.00      59.00      66.00\n",
            "        George Scott        480        142     110.00     122.00     134.00\n",
            "           Del Unser        322         83      74.00      82.00      91.00\n",
            "      Billy Williams        636        205     147.00     163.00     178.00\n",
            "     Bert Campaneris        603        168     137.00     152.00     167.00\n",
            "      Thurman Munson        453        137     100.00     112.00     123.00\n",
            "           Max Alvis        115         21      24.00      28.00      32.00\n",
            "\n",
            "Log pointwise predictive density: -72.86\n",
            "\n"
          ],
          "name": "stdout"
        }
      ]
    },
    {
      "cell_type": "code",
      "metadata": {
        "id": "MgdG4XnIoaLo"
      },
      "source": [
        "# run in google colab."
      ],
      "execution_count": 39,
      "outputs": []
    },
    {
      "cell_type": "code",
      "metadata": {
        "id": "kAAdeGMwpe71"
      },
      "source": [
        ""
      ],
      "execution_count": null,
      "outputs": []
    }
  ]
}