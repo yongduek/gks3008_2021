{
 "cells": [
  {
   "cell_type": "code",
   "execution_count": 1,
   "metadata": {},
   "outputs": [],
   "source": [
    "import numpy as np"
   ]
  },
  {
   "cell_type": "markdown",
   "metadata": {},
   "source": [
    "# Simple Situations"
   ]
  },
  {
   "cell_type": "code",
   "execution_count": 2,
   "metadata": {},
   "outputs": [
    {
     "data": {
      "text/plain": [
       "array([0.33333333, 0.33333333, 0.33333333])"
      ]
     },
     "execution_count": 2,
     "metadata": {},
     "output_type": "execute_result"
    }
   ],
   "source": [
    "prior = np.array([1/3., 1/3, 1/3])\n",
    "prior"
   ]
  },
  {
   "cell_type": "code",
   "execution_count": 3,
   "metadata": {},
   "outputs": [
    {
     "data": {
      "text/plain": [
       "array([0.2, 0.4, 0.7])"
      ]
     },
     "execution_count": 3,
     "metadata": {},
     "output_type": "execute_result"
    }
   ],
   "source": [
    "likelihood = np.array([.2, .4, .7])\n",
    "likelihood"
   ]
  },
  {
   "cell_type": "code",
   "execution_count": 8,
   "metadata": {},
   "outputs": [
    {
     "data": {
      "text/plain": [
       "array([0.06666667, 0.13333333, 0.23333333])"
      ]
     },
     "execution_count": 8,
     "metadata": {},
     "output_type": "execute_result"
    }
   ],
   "source": [
    "posterior_unnormalized = prior * likelihood\n",
    "posterior_unnormalized"
   ]
  },
  {
   "cell_type": "code",
   "execution_count": 9,
   "metadata": {},
   "outputs": [],
   "source": [
    "Z = posterior_unnormalized.sum() # normalization constant"
   ]
  },
  {
   "cell_type": "code",
   "execution_count": 10,
   "metadata": {},
   "outputs": [
    {
     "data": {
      "text/plain": [
       "array([0.15384615, 0.30769231, 0.53846154])"
      ]
     },
     "execution_count": 10,
     "metadata": {},
     "output_type": "execute_result"
    }
   ],
   "source": [
    "# [P(A|H), P(B|H), P(C|H)]\n",
    "posterior = posterior_unnormalized / Z\n",
    "posterior"
   ]
  },
  {
   "cell_type": "markdown",
   "metadata": {},
   "source": [
    "---"
   ]
  },
  {
   "cell_type": "code",
   "execution_count": 11,
   "metadata": {},
   "outputs": [
    {
     "data": {
      "text/plain": [
       "array([0.7, 0.2, 0.1])"
      ]
     },
     "execution_count": 11,
     "metadata": {},
     "output_type": "execute_result"
    }
   ],
   "source": [
    "prior = np.array([.7, .2, .1])\n",
    "prior"
   ]
  },
  {
   "cell_type": "code",
   "execution_count": 12,
   "metadata": {},
   "outputs": [
    {
     "data": {
      "text/plain": [
       "array([0.2, 0.4, 0.7])"
      ]
     },
     "execution_count": 12,
     "metadata": {},
     "output_type": "execute_result"
    }
   ],
   "source": [
    "likelihood = np.array([.2, .4, .7])\n",
    "likelihood"
   ]
  },
  {
   "cell_type": "code",
   "execution_count": 13,
   "metadata": {},
   "outputs": [
    {
     "data": {
      "text/plain": [
       "array([0.14, 0.08, 0.07])"
      ]
     },
     "execution_count": 13,
     "metadata": {},
     "output_type": "execute_result"
    }
   ],
   "source": [
    "posterior_unnormalized = prior * likelihood\n",
    "posterior_unnormalized"
   ]
  },
  {
   "cell_type": "code",
   "execution_count": 14,
   "metadata": {},
   "outputs": [],
   "source": [
    "Z = posterior_unnormalized.sum() # normalization constant"
   ]
  },
  {
   "cell_type": "code",
   "execution_count": 15,
   "metadata": {},
   "outputs": [
    {
     "data": {
      "text/plain": [
       "array([0.48275862, 0.27586207, 0.24137931])"
      ]
     },
     "execution_count": 15,
     "metadata": {},
     "output_type": "execute_result"
    }
   ],
   "source": [
    "# [P(A|H), P(B|H), P(C|H)]\n",
    "posterior = posterior_unnormalized / Z\n",
    "posterior"
   ]
  },
  {
   "cell_type": "markdown",
   "metadata": {},
   "source": [
    "---"
   ]
  },
  {
   "cell_type": "code",
   "execution_count": 11,
   "metadata": {},
   "outputs": [
    {
     "data": {
      "text/plain": [
       "array([0.7, 0.2, 0.1])"
      ]
     },
     "execution_count": 11,
     "metadata": {},
     "output_type": "execute_result"
    }
   ],
   "source": [
    "prior = np.array([.7, .2, .1])\n",
    "prior"
   ]
  },
  {
   "cell_type": "code",
   "execution_count": 12,
   "metadata": {},
   "outputs": [
    {
     "data": {
      "text/plain": [
       "array([0.2, 0.4, 0.7])"
      ]
     },
     "execution_count": 12,
     "metadata": {},
     "output_type": "execute_result"
    }
   ],
   "source": [
    "likelihood = np.array([.2, .4, .7])\n",
    "likelihood"
   ]
  },
  {
   "cell_type": "code",
   "execution_count": 13,
   "metadata": {},
   "outputs": [
    {
     "data": {
      "text/plain": [
       "array([0.14, 0.08, 0.07])"
      ]
     },
     "execution_count": 13,
     "metadata": {},
     "output_type": "execute_result"
    }
   ],
   "source": [
    "posterior_unnormalized = prior * likelihood\n",
    "posterior_unnormalized"
   ]
  },
  {
   "cell_type": "code",
   "execution_count": 14,
   "metadata": {},
   "outputs": [],
   "source": [
    "Z = posterior_unnormalized.sum() # normalization constant"
   ]
  },
  {
   "cell_type": "code",
   "execution_count": 15,
   "metadata": {},
   "outputs": [
    {
     "data": {
      "text/plain": [
       "array([0.48275862, 0.27586207, 0.24137931])"
      ]
     },
     "execution_count": 15,
     "metadata": {},
     "output_type": "execute_result"
    }
   ],
   "source": [
    "# [P(A|H), P(B|H), P(C|H)]\n",
    "posterior = posterior_unnormalized / Z\n",
    "posterior"
   ]
  },
  {
   "cell_type": "markdown",
   "metadata": {},
   "source": [
    "---"
   ]
  },
  {
   "cell_type": "code",
   "execution_count": 3,
   "metadata": {},
   "outputs": [
    {
     "ename": "NameError",
     "evalue": "name 'np' is not defined",
     "output_type": "error",
     "traceback": [
      "\u001b[1;31m---------------------------------------------------------------------------\u001b[0m",
      "\u001b[1;31mNameError\u001b[0m                                 Traceback (most recent call last)",
      "\u001b[1;32m<ipython-input-3-c21d28584da1>\u001b[0m in \u001b[0;36m<module>\u001b[1;34m\u001b[0m\n\u001b[1;32m----> 1\u001b[1;33m \u001b[0mdf\u001b[0m \u001b[1;33m=\u001b[0m \u001b[0mnp\u001b[0m\u001b[1;33m.\u001b[0m\u001b[0marray\u001b[0m\u001b[1;33m(\u001b[0m\u001b[1;33m[\u001b[0m\u001b[1;36m4\u001b[0m\u001b[1;33m,\u001b[0m\u001b[1;36m6\u001b[0m\u001b[1;33m,\u001b[0m\u001b[1;36m8\u001b[0m\u001b[1;33m,\u001b[0m\u001b[1;36m12\u001b[0m\u001b[1;33m,\u001b[0m\u001b[1;36m20\u001b[0m\u001b[1;33m]\u001b[0m\u001b[1;33m)\u001b[0m  \u001b[1;31m# dice faces\u001b[0m\u001b[1;33m\u001b[0m\u001b[1;33m\u001b[0m\u001b[0m\n\u001b[0m\u001b[0;32m      2\u001b[0m \u001b[0mdf\u001b[0m\u001b[1;33m\u001b[0m\u001b[1;33m\u001b[0m\u001b[0m\n",
      "\u001b[1;31mNameError\u001b[0m: name 'np' is not defined"
     ]
    }
   ],
   "source": [
    "df = np.array([4,6,8,12,20])  # dice faces\n",
    "df"
   ]
  },
  {
   "cell_type": "code",
   "execution_count": 18,
   "metadata": {},
   "outputs": [
    {
     "data": {
      "text/plain": [
       "array([0.2, 0.2, 0.2, 0.2, 0.2])"
      ]
     },
     "execution_count": 18,
     "metadata": {},
     "output_type": "execute_result"
    }
   ],
   "source": [
    "prior = np.array([1/5]*5)\n",
    "prior"
   ]
  },
  {
   "cell_type": "code",
   "execution_count": 2,
   "metadata": {},
   "outputs": [
    {
     "ename": "NameError",
     "evalue": "name 'df' is not defined",
     "output_type": "error",
     "traceback": [
      "\u001b[1;31m---------------------------------------------------------------------------\u001b[0m",
      "\u001b[1;31mNameError\u001b[0m                                 Traceback (most recent call last)",
      "\u001b[1;32m<ipython-input-2-ab974e59bc50>\u001b[0m in \u001b[0;36m<module>\u001b[1;34m\u001b[0m\n\u001b[0;32m      2\u001b[0m \u001b[1;31m# likelihood is determined based on the observation\u001b[0m\u001b[1;33m\u001b[0m\u001b[1;33m\u001b[0m\u001b[1;33m\u001b[0m\u001b[0m\n\u001b[0;32m      3\u001b[0m \u001b[0mlike\u001b[0m \u001b[1;33m=\u001b[0m \u001b[1;33m[\u001b[0m\u001b[1;33m]\u001b[0m\u001b[1;33m\u001b[0m\u001b[1;33m\u001b[0m\u001b[0m\n\u001b[1;32m----> 4\u001b[1;33m \u001b[1;32mfor\u001b[0m \u001b[0md\u001b[0m \u001b[1;32min\u001b[0m \u001b[0mdf\u001b[0m\u001b[1;33m:\u001b[0m\u001b[1;33m\u001b[0m\u001b[1;33m\u001b[0m\u001b[0m\n\u001b[0m\u001b[0;32m      5\u001b[0m     \u001b[1;32mif\u001b[0m \u001b[0md\u001b[0m \u001b[1;33m<\u001b[0m \u001b[0mobs\u001b[0m\u001b[1;33m:\u001b[0m\u001b[1;33m\u001b[0m\u001b[1;33m\u001b[0m\u001b[0m\n\u001b[0;32m      6\u001b[0m         \u001b[0mlike\u001b[0m\u001b[1;33m.\u001b[0m\u001b[0mappend\u001b[0m\u001b[1;33m(\u001b[0m\u001b[1;36m0\u001b[0m\u001b[1;33m)\u001b[0m\u001b[1;33m\u001b[0m\u001b[1;33m\u001b[0m\u001b[0m\n",
      "\u001b[1;31mNameError\u001b[0m: name 'df' is not defined"
     ]
    }
   ],
   "source": [
    "obs = 6\n",
    "# likelihood is determined based on the observation\n",
    "like = []\n",
    "for d in df:\n",
    "    if d < obs:\n",
    "        like.append(0)\n",
    "    else:\n",
    "        like.append(1./d)\n",
    "    print(f'{d}side:  prob=', 1/d)\n",
    "like = np.array(like);\n",
    "like"
   ]
  },
  {
   "cell_type": "code",
   "execution_count": 25,
   "metadata": {},
   "outputs": [
    {
     "data": {
      "text/plain": [
       "array([0.        , 0.39215686, 0.29411765, 0.19607843, 0.11764706])"
      ]
     },
     "execution_count": 25,
     "metadata": {},
     "output_type": "execute_result"
    }
   ],
   "source": [
    "post = prior * like\n",
    "Z = post.sum()\n",
    "post = post / Z\n",
    "post"
   ]
  },
  {
   "cell_type": "markdown",
   "metadata": {},
   "source": [
    "---"
   ]
  },
  {
   "cell_type": "markdown",
   "metadata": {},
   "source": [
    "# Bertrand's box paradox\n",
    "- https://en.wikipedia.org/wiki/Bertrand%27s_box_paradox\n",
    "- Statistical Rethinking 2nd, Chapter 15. Missing Data\n",
    "\n",
    "Suppose a robot cooks three pancakes. The first pancake is burnt on both sides (BB). The second pancake is burnt on only on side (BU). The third pancake is not burnt at all (UU). Now another robot is serving you at random one of these pancakes, and the side facing up on your plate is burnt. What is the probability that the other side is  also burnt?"
   ]
  },
  {
   "cell_type": "code",
   "execution_count": 144,
   "metadata": {},
   "outputs": [],
   "source": [
    "faceup = 0    \n",
    "facedown = 1\n",
    "B = 1\n",
    "U = 0\n",
    "pancakes = np.array( [ [B,B], [B,U], [U,U]] )"
   ]
  },
  {
   "cell_type": "code",
   "execution_count": 89,
   "metadata": {},
   "outputs": [],
   "source": [
    "n_repeat = 1000000\n",
    "burntfaceup = []\n",
    "for _ in range(n_repeat):\n",
    "    i = np.random.randint(low=0, high=3)\n",
    "    choice = pancakes[i]\n",
    "    if choice[faceup] == B: # observation\n",
    "        burntfaceup.append(choice)"
   ]
  },
  {
   "cell_type": "code",
   "execution_count": 90,
   "metadata": {},
   "outputs": [],
   "source": [
    "len_total = len(burntfaceup)"
   ]
  },
  {
   "cell_type": "code",
   "execution_count": 91,
   "metadata": {},
   "outputs": [],
   "source": [
    "burntdown = []\n",
    "for pc in burntfaceup:\n",
    "    if pc[facedown] == B:\n",
    "        burntdown.append(pc)"
   ]
  },
  {
   "cell_type": "code",
   "execution_count": 92,
   "metadata": {},
   "outputs": [
    {
     "data": {
      "text/plain": [
       "0.5001769624839534"
      ]
     },
     "execution_count": 92,
     "metadata": {},
     "output_type": "execute_result"
    }
   ],
   "source": [
    "len(burntdown) / len_total"
   ]
  },
  {
   "cell_type": "markdown",
   "metadata": {},
   "source": [
    "- Something wrong\n",
    "- when the pancake is put on a plate, either side can be up."
   ]
  },
  {
   "cell_type": "code",
   "execution_count": 138,
   "metadata": {},
   "outputs": [],
   "source": [
    "n_repeat = 1000000\n",
    "burntfaceup = []\n",
    "for k in range(n_repeat):\n",
    "    i = np.random.randint(low=0, high=3)\n",
    "    choice = pancakes[i]  # the robot chooses this pancake\n",
    "    # up-side down\n",
    "    if np.random.uniform() < 0.5:  # 50% chance\n",
    "        choice[0], choice[1] = choice[1], choice[0]\n",
    "    if choice[faceup] == B: # observation\n",
    "        burntfaceup.append(choice)"
   ]
  },
  {
   "cell_type": "code",
   "execution_count": 139,
   "metadata": {},
   "outputs": [],
   "source": [
    "len_total = len(burntfaceup)"
   ]
  },
  {
   "cell_type": "code",
   "execution_count": 140,
   "metadata": {},
   "outputs": [],
   "source": [
    "burntdown = []\n",
    "for pc in burntfaceup:\n",
    "    if pc[facedown] == B:\n",
    "        burntdown.append(pc)"
   ]
  },
  {
   "cell_type": "code",
   "execution_count": 141,
   "metadata": {},
   "outputs": [
    {
     "data": {
      "text/plain": [
       "0.6659746306807954"
      ]
     },
     "execution_count": 141,
     "metadata": {},
     "output_type": "execute_result"
    }
   ],
   "source": [
    "len(burntdown) / len_total"
   ]
  },
  {
   "cell_type": "markdown",
   "metadata": {},
   "source": [
    "## let's make it faster with numpy vectorization"
   ]
  },
  {
   "cell_type": "code",
   "execution_count": 213,
   "metadata": {},
   "outputs": [
    {
     "data": {
      "text/plain": [
       "0.6667841501635007"
      ]
     },
     "execution_count": 213,
     "metadata": {},
     "output_type": "execute_result"
    }
   ],
   "source": [
    "n_repeat = 10000000\n",
    "i = np.random.randint(0,3, size=n_repeat);\n",
    "choice = pancakes[i];\n",
    "# up-side down\n",
    "u = np.random.uniform(size=n_repeat)\n",
    "do_swap = u < 0.5; do_swap;\n",
    "a = choice[do_swap == False]\n",
    "b = choice[do_swap == True]\n",
    "b[:,[0,1]] = b[:,[1,0]]  # swap == upside down\n",
    "choice = np.vstack((a,b))           # random generation\n",
    "#\n",
    "choice = choice[ choice[:,faceup] == B]  # observation\n",
    "#\n",
    "total_len = len(choice)\n",
    "burnt_down = choice[:,facedown] == B       # target of interest\n",
    "#\n",
    "burnt_down.sum() / total_len        # the ratio"
   ]
  },
  {
   "cell_type": "code",
   "execution_count": null,
   "metadata": {},
   "outputs": [],
   "source": []
  },
  {
   "cell_type": "markdown",
   "metadata": {},
   "source": [
    "---"
   ]
  },
  {
   "cell_type": "code",
   "execution_count": 1,
   "metadata": {},
   "outputs": [
    {
     "name": "stderr",
     "output_type": "stream",
     "text": [
      "[NbConvertApp] Converting notebook Bertrand_box_paradox.ipynb to webpdf\n",
      "Traceback (most recent call last):\n",
      "  File \"c:\\users\\vip\\appdata\\local\\programs\\python\\python38\\lib\\runpy.py\", line 194, in _run_module_as_main\n",
      "    return _run_code(code, main_globals, None,\n",
      "  File \"c:\\users\\vip\\appdata\\local\\programs\\python\\python38\\lib\\runpy.py\", line 87, in _run_code\n",
      "    exec(code, run_globals)\n",
      "  File \"C:\\Users\\VIP\\AppData\\Local\\Programs\\Python\\Python38\\Scripts\\jupyter-nbconvert.EXE\\__main__.py\", line 7, in <module>\n",
      "  File \"c:\\users\\vip\\appdata\\local\\programs\\python\\python38\\lib\\site-packages\\jupyter_core\\application.py\", line 254, in launch_instance\n",
      "    return super(JupyterApp, cls).launch_instance(argv=argv, **kwargs)\n",
      "  File \"c:\\users\\vip\\appdata\\local\\programs\\python\\python38\\lib\\site-packages\\traitlets\\config\\application.py\", line 845, in launch_instance\n",
      "    app.start()\n",
      "  File \"c:\\users\\vip\\appdata\\local\\programs\\python\\python38\\lib\\site-packages\\nbconvert\\nbconvertapp.py\", line 350, in start\n",
      "    self.convert_notebooks()\n",
      "  File \"c:\\users\\vip\\appdata\\local\\programs\\python\\python38\\lib\\site-packages\\nbconvert\\nbconvertapp.py\", line 524, in convert_notebooks\n",
      "    self.convert_single_notebook(notebook_filename)\n",
      "  File \"c:\\users\\vip\\appdata\\local\\programs\\python\\python38\\lib\\site-packages\\nbconvert\\nbconvertapp.py\", line 489, in convert_single_notebook\n",
      "    output, resources = self.export_single_notebook(notebook_filename, resources, input_buffer=input_buffer)\n",
      "  File \"c:\\users\\vip\\appdata\\local\\programs\\python\\python38\\lib\\site-packages\\nbconvert\\nbconvertapp.py\", line 418, in export_single_notebook\n",
      "    output, resources = self.exporter.from_filename(notebook_filename, resources=resources)\n",
      "  File \"c:\\users\\vip\\appdata\\local\\programs\\python\\python38\\lib\\site-packages\\nbconvert\\exporters\\exporter.py\", line 181, in from_filename\n",
      "    return self.from_file(f, resources=resources, **kw)\n",
      "  File \"c:\\users\\vip\\appdata\\local\\programs\\python\\python38\\lib\\site-packages\\nbconvert\\exporters\\exporter.py\", line 199, in from_file\n",
      "    return self.from_notebook_node(nbformat.read(file_stream, as_version=4), resources=resources, **kw)\n",
      "  File \"c:\\users\\vip\\appdata\\local\\programs\\python\\python38\\lib\\site-packages\\nbconvert\\exporters\\webpdf.py\", line 88, in from_notebook_node\n",
      "    html, resources = super().from_notebook_node(\n",
      "  File \"c:\\users\\vip\\appdata\\local\\programs\\python\\python38\\lib\\site-packages\\nbconvert\\exporters\\html.py\", line 119, in from_notebook_node\n",
      "    return super().from_notebook_node(nb, resources, **kw)\n",
      "  File \"c:\\users\\vip\\appdata\\local\\programs\\python\\python38\\lib\\site-packages\\nbconvert\\exporters\\templateexporter.py\", line 369, in from_notebook_node\n",
      "    nb_copy, resources = super().from_notebook_node(nb, resources, **kw)\n",
      "  File \"c:\\users\\vip\\appdata\\local\\programs\\python\\python38\\lib\\site-packages\\nbconvert\\exporters\\exporter.py\", line 143, in from_notebook_node\n",
      "    nb_copy, resources = self._preprocess(nb_copy, resources)\n",
      "  File \"c:\\users\\vip\\appdata\\local\\programs\\python\\python38\\lib\\site-packages\\nbconvert\\exporters\\exporter.py\", line 318, in _preprocess\n",
      "    nbc, resc = preprocessor(nbc, resc)\n",
      "  File \"c:\\users\\vip\\appdata\\local\\programs\\python\\python38\\lib\\site-packages\\nbconvert\\preprocessors\\base.py\", line 47, in __call__\n",
      "    return self.preprocess(nb, resources)\n",
      "  File \"c:\\users\\vip\\appdata\\local\\programs\\python\\python38\\lib\\site-packages\\nbconvert\\preprocessors\\execute.py\", line 79, in preprocess\n",
      "    self.execute()\n",
      "  File \"c:\\users\\vip\\appdata\\local\\programs\\python\\python38\\lib\\site-packages\\nbclient\\util.py\", line 74, in wrapped\n",
      "    return just_run(coro(*args, **kwargs))\n",
      "  File \"c:\\users\\vip\\appdata\\local\\programs\\python\\python38\\lib\\site-packages\\nbclient\\util.py\", line 53, in just_run\n",
      "    return loop.run_until_complete(coro)\n",
      "  File \"c:\\users\\vip\\appdata\\local\\programs\\python\\python38\\lib\\asyncio\\base_events.py\", line 616, in run_until_complete\n",
      "    return future.result()\n",
      "  File \"c:\\users\\vip\\appdata\\local\\programs\\python\\python38\\lib\\site-packages\\nbclient\\client.py\", line 540, in async_execute\n",
      "    await self.async_execute_cell(\n",
      "  File \"c:\\users\\vip\\appdata\\local\\programs\\python\\python38\\lib\\site-packages\\nbconvert\\preprocessors\\execute.py\", line 123, in async_execute_cell\n",
      "    cell, resources = self.preprocess_cell(cell, self.resources, cell_index)\n",
      "  File \"c:\\users\\vip\\appdata\\local\\programs\\python\\python38\\lib\\site-packages\\nbconvert\\preprocessors\\execute.py\", line 146, in preprocess_cell\n",
      "    cell = run_sync(NotebookClient.async_execute_cell)(self, cell, index, store_history=self.store_history)\n",
      "  File \"c:\\users\\vip\\appdata\\local\\programs\\python\\python38\\lib\\site-packages\\nbclient\\util.py\", line 74, in wrapped\n",
      "    return just_run(coro(*args, **kwargs))\n",
      "  File \"c:\\users\\vip\\appdata\\local\\programs\\python\\python38\\lib\\site-packages\\nbclient\\util.py\", line 53, in just_run\n",
      "    return loop.run_until_complete(coro)\n",
      "  File \"c:\\users\\vip\\appdata\\local\\programs\\python\\python38\\lib\\site-packages\\nest_asyncio.py\", line 98, in run_until_complete\n",
      "    return f.result()\n",
      "  File \"c:\\users\\vip\\appdata\\local\\programs\\python\\python38\\lib\\asyncio\\futures.py\", line 178, in result\n",
      "    raise self._exception\n",
      "  File \"c:\\users\\vip\\appdata\\local\\programs\\python\\python38\\lib\\asyncio\\tasks.py\", line 280, in __step\n",
      "    result = coro.send(None)\n",
      "  File \"c:\\users\\vip\\appdata\\local\\programs\\python\\python38\\lib\\site-packages\\nbclient\\client.py\", line 832, in async_execute_cell\n",
      "    self._check_raise_for_error(cell, exec_reply)\n",
      "  File \"c:\\users\\vip\\appdata\\local\\programs\\python\\python38\\lib\\site-packages\\nbclient\\client.py\", line 740, in _check_raise_for_error\n",
      "    raise CellExecutionError.from_cell_and_msg(cell, exec_reply['content'])\n",
      "nbclient.exceptions.CellExecutionError: An error occurred while executing the following cell:\n",
      "------------------\n",
      "prior = np.array([.7, .])\n",
      "prior\n",
      "------------------\n",
      "\n",
      "\u001b[1;36m  File \u001b[1;32m\"<ipython-input-1-eb813e89bbb0>\"\u001b[1;36m, line \u001b[1;32m1\u001b[0m\n",
      "\u001b[1;33m    prior = np.array([.7, .])\u001b[0m\n",
      "\u001b[1;37m                          ^\u001b[0m\n",
      "\u001b[1;31mSyntaxError\u001b[0m\u001b[1;31m:\u001b[0m invalid syntax\n",
      "\n",
      "SyntaxError: invalid syntax (<ipython-input-1-eb813e89bbb0>, line 1)\n",
      "\n"
     ]
    }
   ],
   "source": [
    "!jupyter nbconvert Bertrand_box_paradox.ipynb --to webpdf --HTMLExporter.theme=dark --allow-chromium-download --execute"
   ]
  },
  {
   "cell_type": "code",
   "execution_count": null,
   "metadata": {},
   "outputs": [],
   "source": []
  }
 ],
 "metadata": {
  "kernelspec": {
   "display_name": "Python 3",
   "language": "python",
   "name": "python3"
  },
  "language_info": {
   "codemirror_mode": {
    "name": "ipython",
    "version": 3
   },
   "file_extension": ".py",
   "mimetype": "text/x-python",
   "name": "python",
   "nbconvert_exporter": "python",
   "pygments_lexer": "ipython3",
   "version": "3.8.8"
  }
 },
 "nbformat": 4,
 "nbformat_minor": 4
}
